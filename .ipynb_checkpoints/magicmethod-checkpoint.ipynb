{
 "cells": [
  {
   "cell_type": "code",
   "execution_count": 1,
   "id": "96a8cf83-bf73-4d8a-8901-9b4d060c9fdc",
   "metadata": {},
   "outputs": [
    {
     "name": "stdout",
     "output_type": "stream",
     "text": [
      "Box holding: 10\n",
      "Box holding: -10\n"
     ]
    }
   ],
   "source": [
    "class Box:\n",
    "    def __init__(self, value):\n",
    "        self.value = value\n",
    "\n",
    "    def __neg__(self):\n",
    "        return Box(-self.value)\n",
    "\n",
    "    def __str__(self):\n",
    "        return f\"Box holding: {self.value}\"\n",
    "\n",
    "# Example usage\n",
    "a = Box(10)\n",
    "b = -a  # Uses __neg__\n",
    "\n",
    "print(a)\n",
    "print(b)\n"
   ]
  },
  {
   "cell_type": "markdown",
   "id": "626c02bd-fabf-4912-973c-4be73895037f",
   "metadata": {},
   "source": [
    "Uses __neg__ to return a negative value with a '-'. Also returns value as a string with __str__."
   ]
  }
 ],
 "metadata": {
  "kernelspec": {
   "display_name": "Python 3 (ipykernel)",
   "language": "python",
   "name": "python3"
  },
  "language_info": {
   "codemirror_mode": {
    "name": "ipython",
    "version": 3
   },
   "file_extension": ".py",
   "mimetype": "text/x-python",
   "name": "python",
   "nbconvert_exporter": "python",
   "pygments_lexer": "ipython3",
   "version": "3.10.12"
  }
 },
 "nbformat": 4,
 "nbformat_minor": 5
}
